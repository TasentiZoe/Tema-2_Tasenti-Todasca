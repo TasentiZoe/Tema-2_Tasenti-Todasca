{
  "cells": [
    {
      "cell_type": "code",
      "source": [
        "! pip install yahoo_fin\n",
        "! pip install arch\n",
        "\n",
        "import warnings\n",
        "warnings.simplefilter(\"ignore\")\n",
        "\n",
        "import pandas as pd\n",
        "import scipy.stats as stat\n",
        "import scipy\n",
        "import datetime\n",
        "import numpy as np\n",
        "import matplotlib.pyplot as plt\n",
        "from arch.unitroot import VarianceRatio\n",
        "from yahoo_fin.stock_info import *\n",
        "\n",
        "\n",
        "\n",
        "start = datetime.datetime(2018,1,1)\n",
        "end = datetime.datetime(2022,1,1)\n"
      ],
      "metadata": {
        "id": "A-yQPKdms65l",
        "outputId": "e72577ee-e050-45c0-b617-c8db6474eb80",
        "colab": {
          "base_uri": "https://localhost:8080/"
        }
      },
      "execution_count": 92,
      "outputs": [
        {
          "output_type": "stream",
          "name": "stdout",
          "text": [
            "Looking in indexes: https://pypi.org/simple, https://us-python.pkg.dev/colab-wheels/public/simple/\n",
            "Requirement already satisfied: yahoo_fin in /usr/local/lib/python3.7/dist-packages (0.8.9.1)\n",
            "Requirement already satisfied: requests-html in /usr/local/lib/python3.7/dist-packages (from yahoo_fin) (0.10.0)\n",
            "Requirement already satisfied: pandas in /usr/local/lib/python3.7/dist-packages (from yahoo_fin) (1.3.5)\n",
            "Requirement already satisfied: requests in /usr/local/lib/python3.7/dist-packages (from yahoo_fin) (2.23.0)\n",
            "Requirement already satisfied: feedparser in /usr/local/lib/python3.7/dist-packages (from yahoo_fin) (6.0.10)\n",
            "Requirement already satisfied: sgmllib3k in /usr/local/lib/python3.7/dist-packages (from feedparser->yahoo_fin) (1.0.0)\n",
            "Requirement already satisfied: python-dateutil>=2.7.3 in /usr/local/lib/python3.7/dist-packages (from pandas->yahoo_fin) (2.8.2)\n",
            "Requirement already satisfied: pytz>=2017.3 in /usr/local/lib/python3.7/dist-packages (from pandas->yahoo_fin) (2022.4)\n",
            "Requirement already satisfied: numpy>=1.17.3 in /usr/local/lib/python3.7/dist-packages (from pandas->yahoo_fin) (1.21.6)\n",
            "Requirement already satisfied: six>=1.5 in /usr/local/lib/python3.7/dist-packages (from python-dateutil>=2.7.3->pandas->yahoo_fin) (1.15.0)\n",
            "Requirement already satisfied: certifi>=2017.4.17 in /usr/local/lib/python3.7/dist-packages (from requests->yahoo_fin) (2022.9.24)\n",
            "Requirement already satisfied: urllib3!=1.25.0,!=1.25.1,<1.26,>=1.21.1 in /usr/local/lib/python3.7/dist-packages (from requests->yahoo_fin) (1.25.11)\n",
            "Requirement already satisfied: chardet<4,>=3.0.2 in /usr/local/lib/python3.7/dist-packages (from requests->yahoo_fin) (3.0.4)\n",
            "Requirement already satisfied: idna<3,>=2.5 in /usr/local/lib/python3.7/dist-packages (from requests->yahoo_fin) (2.10)\n",
            "Requirement already satisfied: fake-useragent in /usr/local/lib/python3.7/dist-packages (from requests-html->yahoo_fin) (0.1.11)\n",
            "Requirement already satisfied: bs4 in /usr/local/lib/python3.7/dist-packages (from requests-html->yahoo_fin) (0.0.1)\n",
            "Requirement already satisfied: w3lib in /usr/local/lib/python3.7/dist-packages (from requests-html->yahoo_fin) (2.0.1)\n",
            "Requirement already satisfied: pyppeteer>=0.0.14 in /usr/local/lib/python3.7/dist-packages (from requests-html->yahoo_fin) (1.0.2)\n",
            "Requirement already satisfied: pyquery in /usr/local/lib/python3.7/dist-packages (from requests-html->yahoo_fin) (1.4.3)\n",
            "Requirement already satisfied: parse in /usr/local/lib/python3.7/dist-packages (from requests-html->yahoo_fin) (1.19.0)\n",
            "Requirement already satisfied: pyee<9.0.0,>=8.1.0 in /usr/local/lib/python3.7/dist-packages (from pyppeteer>=0.0.14->requests-html->yahoo_fin) (8.2.2)\n",
            "Requirement already satisfied: websockets<11.0,>=10.0 in /usr/local/lib/python3.7/dist-packages (from pyppeteer>=0.0.14->requests-html->yahoo_fin) (10.3)\n",
            "Requirement already satisfied: tqdm<5.0.0,>=4.42.1 in /usr/local/lib/python3.7/dist-packages (from pyppeteer>=0.0.14->requests-html->yahoo_fin) (4.64.1)\n",
            "Requirement already satisfied: appdirs<2.0.0,>=1.4.3 in /usr/local/lib/python3.7/dist-packages (from pyppeteer>=0.0.14->requests-html->yahoo_fin) (1.4.4)\n",
            "Requirement already satisfied: importlib-metadata>=1.4 in /usr/local/lib/python3.7/dist-packages (from pyppeteer>=0.0.14->requests-html->yahoo_fin) (4.13.0)\n",
            "Requirement already satisfied: typing-extensions>=3.6.4 in /usr/local/lib/python3.7/dist-packages (from importlib-metadata>=1.4->pyppeteer>=0.0.14->requests-html->yahoo_fin) (4.1.1)\n",
            "Requirement already satisfied: zipp>=0.5 in /usr/local/lib/python3.7/dist-packages (from importlib-metadata>=1.4->pyppeteer>=0.0.14->requests-html->yahoo_fin) (3.9.0)\n",
            "Requirement already satisfied: beautifulsoup4 in /usr/local/lib/python3.7/dist-packages (from bs4->requests-html->yahoo_fin) (4.6.3)\n",
            "Requirement already satisfied: lxml>=2.1 in /usr/local/lib/python3.7/dist-packages (from pyquery->requests-html->yahoo_fin) (4.9.1)\n",
            "Requirement already satisfied: cssselect>0.7.9 in /usr/local/lib/python3.7/dist-packages (from pyquery->requests-html->yahoo_fin) (1.1.0)\n",
            "Looking in indexes: https://pypi.org/simple, https://us-python.pkg.dev/colab-wheels/public/simple/\n",
            "Requirement already satisfied: arch in /usr/local/lib/python3.7/dist-packages (5.3.1)\n",
            "Requirement already satisfied: pandas>=1.0 in /usr/local/lib/python3.7/dist-packages (from arch) (1.3.5)\n",
            "Requirement already satisfied: numpy>=1.17 in /usr/local/lib/python3.7/dist-packages (from arch) (1.21.6)\n",
            "Requirement already satisfied: statsmodels>=0.11 in /usr/local/lib/python3.7/dist-packages (from arch) (0.12.2)\n",
            "Requirement already satisfied: scipy>=1.3 in /usr/local/lib/python3.7/dist-packages (from arch) (1.7.3)\n",
            "Requirement already satisfied: property-cached>=1.6.4 in /usr/local/lib/python3.7/dist-packages (from arch) (1.6.4)\n",
            "Requirement already satisfied: pytz>=2017.3 in /usr/local/lib/python3.7/dist-packages (from pandas>=1.0->arch) (2022.4)\n",
            "Requirement already satisfied: python-dateutil>=2.7.3 in /usr/local/lib/python3.7/dist-packages (from pandas>=1.0->arch) (2.8.2)\n",
            "Requirement already satisfied: six>=1.5 in /usr/local/lib/python3.7/dist-packages (from python-dateutil>=2.7.3->pandas>=1.0->arch) (1.15.0)\n",
            "Requirement already satisfied: patsy>=0.5 in /usr/local/lib/python3.7/dist-packages (from statsmodels>=0.11->arch) (0.5.3)\n"
          ]
        }
      ]
    },
    {
      "cell_type": "code",
      "source": [
        "stock_tesla = get_data('TSLA' , start_date = start, end_date = end)\n",
        "\n",
        "stock_tesla.head()\n",
        "\n",
        "stock_tesla=stock_tesla.dropna()\n",
        "close_tesla = pd.DataFrame(stock_tesla[\"close\"]).dropna()\n",
        "simple_return_tesla = close_tesla.pct_change().dropna()\n",
        "log_return_tesla = np.log(1+simple_return_tesla)"
      ],
      "metadata": {
        "id": "AH-L_9_quwcY"
      },
      "execution_count": 81,
      "outputs": []
    },
    {
      "cell_type": "code",
      "source": [
        "stock_etherum = get_data('ETH-USD' , start_date = start, end_date = end)\n",
        "\n",
        "stock_etherum.head()\n",
        "\n",
        "stock_etherum=stock_etherum.dropna()\n",
        "close_etherum = pd.DataFrame(stock_etherum[\"close\"]).dropna()\n",
        "simple_return_etherum = close_etherum.pct_change().dropna()\n",
        "log_return_etherum = np.log(1+simple_return_etherum)"
      ],
      "metadata": {
        "id": "RLBvyq4NvE5c"
      },
      "execution_count": 82,
      "outputs": []
    },
    {
      "cell_type": "code",
      "source": [
        "stock_tesla[\"close\"].plot(grid = False)"
      ],
      "metadata": {
        "id": "UAp6KfTcvojS",
        "outputId": "b296f040-957d-4e63-a93e-87e18536c776",
        "colab": {
          "base_uri": "https://localhost:8080/",
          "height": 280
        }
      },
      "execution_count": 83,
      "outputs": [
        {
          "output_type": "execute_result",
          "data": {
            "text/plain": [
              "<matplotlib.axes._subplots.AxesSubplot at 0x7fbf46a7a2d0>"
            ]
          },
          "metadata": {},
          "execution_count": 83
        },
        {
          "output_type": "display_data",
          "data": {
            "text/plain": [
              "<Figure size 432x288 with 1 Axes>"
            ],
            "image/png": "[encoded data removed]"
          },
          "metadata": {
            "needs_background": "light"
          }
        }
      ]
    },
    {
      "cell_type": "code",
      "source": [
        "simple_return_tesla[\"close\"].plot(grid = False)"
      ],
      "metadata": {
        "id": "hQyBpgZFv9Lu",
        "outputId": "07d80d20-a0b7-4609-9d8b-66c41d5baec0",
        "colab": {
          "base_uri": "https://localhost:8080/",
          "height": 280
        }
      },
      "execution_count": 84,
      "outputs": [
        {
          "output_type": "execute_result",
          "data": {
            "text/plain": [
              "<matplotlib.axes._subplots.AxesSubplot at 0x7fbf4699f890>"
            ]
          },
          "metadata": {},
          "execution_count": 84
        },
        {
          "output_type": "display_data",
          "data": {
            "text/plain": [
              "<Figure size 432x288 with 1 Axes>"
            ],
            "image/png": "[encoded data removed]"
          },
          "metadata": {
            "needs_background": "light"
          }
        }
      ]
    },
    {
      "cell_type": "code",
      "source": [
        "log_return_tesla[\"close\"].plot(grid = False)"
      ],
      "metadata": {
        "id": "Gt6YH4A9wEWj",
        "outputId": "44f73eca-a9c1-4c65-e37f-fa3d8d545d06",
        "colab": {
          "base_uri": "https://localhost:8080/",
          "height": 283
        }
      },
      "execution_count": 85,
      "outputs": [
        {
          "output_type": "execute_result",
          "data": {
            "text/plain": [
              "<matplotlib.axes._subplots.AxesSubplot at 0x7fbf469fd090>"
            ]
          },
          "metadata": {},
          "execution_count": 85
        },
        {
          "output_type": "display_data",
          "data": {
            "text/plain": [
              "<Figure size 432x288 with 1 Axes>"
            ],
            "image/png": "[encoded data removed]"
          },
          "metadata": {
            "needs_background": "light"
          }
        }
      ]
    },
    {
      "cell_type": "code",
      "source": [
        "stock_etherum[\"close\"].plot(grid = False)"
      ],
      "metadata": {
        "id": "WLPyRSGWv5cq",
        "outputId": "e80c619e-9dc0-4b52-b428-d9ab41cb3154",
        "colab": {
          "base_uri": "https://localhost:8080/",
          "height": 284
        }
      },
      "execution_count": 86,
      "outputs": [
        {
          "output_type": "execute_result",
          "data": {
            "text/plain": [
              "<matplotlib.axes._subplots.AxesSubplot at 0x7fbf468bf550>"
            ]
          },
          "metadata": {},
          "execution_count": 86
        },
        {
          "output_type": "display_data",
          "data": {
            "text/plain": [
              "<Figure size 432x288 with 1 Axes>"
            ],
            "image/png": "[encoded data removed]"
          },
          "metadata": {
            "needs_background": "light"
          }
        }
      ]
    },
    {
      "cell_type": "code",
      "source": [
        "simple_return_etherum[\"close\"].plot(grid = False)"
      ],
      "metadata": {
        "id": "vlvC3A5gwQFu",
        "outputId": "22b6ac38-4927-42f7-b4b3-cc400c9fa1ba",
        "colab": {
          "base_uri": "https://localhost:8080/",
          "height": 282
        }
      },
      "execution_count": 87,
      "outputs": [
        {
          "output_type": "execute_result",
          "data": {
            "text/plain": [
              "<matplotlib.axes._subplots.AxesSubplot at 0x7fbf467e2390>"
            ]
          },
          "metadata": {},
          "execution_count": 87
        },
        {
          "output_type": "display_data",
          "data": {
            "text/plain": [
              "<Figure size 432x288 with 1 Axes>"
            ],
            "image/png": "[encoded data removed]"
          },
          "metadata": {
            "needs_background": "light"
          }
        }
      ]
    },
    {
      "cell_type": "code",
      "source": [
        "log_return_etherum[\"close\"].plot(grid = False)"
      ],
      "metadata": {
        "id": "1W7WRPtjwxlG",
        "outputId": "68b2cb46-8fe9-4920-dbba-52e4e94d66ed",
        "colab": {
          "base_uri": "https://localhost:8080/",
          "height": 282
        }
      },
      "execution_count": 88,
      "outputs": [
        {
          "output_type": "execute_result",
          "data": {
            "text/plain": [
              "<matplotlib.axes._subplots.AxesSubplot at 0x7fbf46723050>"
            ]
          },
          "metadata": {},
          "execution_count": 88
        },
        {
          "output_type": "display_data",
          "data": {
            "text/plain": [
              "<Figure size 432x288 with 1 Axes>"
            ],
            "image/png": "[encoded data removed]"
          },
          "metadata": {
            "needs_background": "light"
          }
        }
      ]
    },
    {
      "cell_type": "code",
      "source": [
        "log_return_etherum[\"close\"].plot(label = 'Etherum', grid = False)\n",
        "log_return_tesla[\"close\"].plot(label = 'Tesla', grid = False)\n",
        "plt.legend()"
      ],
      "metadata": {
        "id": "zoTb2UR2y9kI",
        "outputId": "4a33c7eb-ea1f-46ba-9385-6add81d36fb5",
        "colab": {
          "base_uri": "https://localhost:8080/",
          "height": 282
        }
      },
      "execution_count": 89,
      "outputs": [
        {
          "output_type": "execute_result",
          "data": {
            "text/plain": [
              "<matplotlib.legend.Legend at 0x7fbf46936150>"
            ]
          },
          "metadata": {},
          "execution_count": 89
        },
        {
          "output_type": "display_data",
          "data": {
            "text/plain": [
              "<Figure size 432x288 with 1 Axes>"
            ],
            "image/png": "[encoded data removed]"
          },
          "metadata": {
            "needs_background": "light"
          }
        }
      ]
    },
    {
      "cell_type": "code",
      "source": [
        "x_tesla = np.asarray(close_tesla)\n",
        "x_tesla = np.log(x_tesla)\n",
        "N_tesla=len(x_tesla)\n",
        "vr_1_tesla=[]\n",
        "vrt_tesla = []\n",
        "w_tesla=[]\n",
        "varvrt_tesla = []\n",
        "zvrt_tesla = []\n",
        "q_tesla = []\n",
        "lcl_tesla=[]\n",
        "ucl_tesla=[]\n",
        "vr_1_tesla=[]\n",
        "p_value_tesla=[]\n",
        "stderr_tesla=[]\n",
        "alpha_tesla=0.05\n",
        "k_tesla=5\n",
        "\n",
        "def VRTest():\n",
        "    for ii in range (1, k_tesla+1):\n",
        "        a_tesla=2**ii\n",
        "        q_tesla.append(a_tesla)\n",
        "        vr_tesla = VarianceRatio(x_tesla, a_tesla)\n",
        "        vrt_tesla.append(vr_tesla.vr)\n",
        "        se_tesla=np.sqrt(vr_tesla._stat_variance)/np.sqrt(vr_tesla._nobs-1)\n",
        "        stderr_tesla.append(se_tesla)\n",
        "        lower_tesla=vr_tesla.vr-stat.norm.ppf(1-alpha_tesla/2)*se_tesla\n",
        "        upper_tesla=vr_tesla.vr+stat.norm.ppf(1-alpha_tesla/2)*se_tesla\n",
        "        one_tesla=1\n",
        "        zvrt_tesla.append(vr_tesla.stat)\n",
        "        lcl_tesla.append(lower_tesla)\n",
        "        ucl_tesla.append(upper_tesla)\n",
        "        vr_1_tesla.append(one_tesla)\n",
        "        p_value_tesla.append(vr_tesla.pvalue)\n",
        "\n",
        "    return vrt_tesla, p_value_tesla, zvrt_tesla, q_tesla, stderr_tesla\n",
        "VRTest()\n",
        "\n",
        "confidence_tesla=1-alpha_tesla\n",
        "%pylab inline\n",
        "#pylab.rcParams['figure.figsize'] = (15, 9)   # Change the size of plots\n",
        "#plt.ylim(min(lcl), max(ucl))\n",
        "plt.xlim(0, 2**k_tesla+2)\n",
        "plt.xlabel( 'q' )\n",
        "plt.ylabel( 'VR(q)' )\n",
        "plt.plot(q_tesla, vr_1_tesla,color='black', linestyle='dashed', label='VR(q)=1')\n",
        "plt.plot(q_tesla, vrt_tesla, color='blue', marker='o',markerfacecolor='blue', markersize=8,label='VR(q)')\n",
        "plt.plot(q_tesla, lcl_tesla,color='red', linestyle='dashed', label='LCL ' +str('{:.0%}'.format(confidence_tesla)))\n",
        "plt.plot(q_tesla, ucl_tesla,color='red', linestyle='dashed', label='UCL ' +str('{:.0%}'.format(confidence_tesla)))\n",
        "plt.legend(loc='upper center', bbox_to_anchor=(0.5, -0.07),fancybox=True, shadow=True, ncol=5)\n",
        "\n",
        "plt.show()"
      ],
      "metadata": {
        "id": "uVrG9XBrw-TZ",
        "outputId": "4d37cd25-b816-419d-b3d0-0557b07d40c2",
        "colab": {
          "base_uri": "https://localhost:8080/",
          "height": 304
        }
      },
      "execution_count": 93,
      "outputs": [
        {
          "output_type": "stream",
          "name": "stdout",
          "text": [
            "Populating the interactive namespace from numpy and matplotlib\n"
          ]
        },
        {
          "output_type": "display_data",
          "data": {
            "text/plain": [
              "<Figure size 432x288 with 1 Axes>"
            ],
            "image/png": "[encoded data removed]"
          },
          "metadata": {
            "needs_background": "light"
          }
        }
      ]
    },
    {
      "cell_type": "code",
      "source": [
        "x_etherum = np.asarray(close_etherum)\n",
        "x_etherum = np.log(x_etherum)\n",
        "N_etherum=len(x_etherum)\n",
        "vr_1_etherum=[]\n",
        "vrt_etherum = []\n",
        "w_etherum=[]\n",
        "varvrt_etherum = []\n",
        "zvrt_etherum = []\n",
        "q_etherum = []\n",
        "lcl_etherum=[]\n",
        "ucl_etherum=[]\n",
        "vr_1_etherum=[]\n",
        "p_value_etherum=[]\n",
        "stderr_etherum=[]\n",
        "alpha_etherum=0.05\n",
        "k_etherum=5\n",
        "\n",
        "def VRTest():\n",
        "    for ii in range (1, k_etherum+1):\n",
        "        a_etherum=2**ii\n",
        "        q_etherum.append(a_etherum)\n",
        "        vr_etherum = VarianceRatio(x_etherum, a_etherum)\n",
        "        vrt_etherum.append(vr_etherum.vr)\n",
        "        se_etherum=np.sqrt(vr_etherum._stat_variance)/np.sqrt(vr_etherum._nobs-1)\n",
        "        stderr_etherum.append(se_etherum)\n",
        "        lower_etherum=vr_etherum.vr-stat.norm.ppf(1-alpha_etherum/2)*se_etherum\n",
        "        upper_etherum=vr_etherum.vr+stat.norm.ppf(1-alpha_etherum/2)*se_etherum\n",
        "        one_etherum=1\n",
        "        zvrt_etherum.append(vr_etherum.stat)\n",
        "        lcl_etherum.append(lower_etherum)\n",
        "        ucl_etherum.append(upper_etherum)\n",
        "        vr_1_etherum.append(one_etherum)\n",
        "        p_value_etherum.append(vr_etherum.pvalue)\n",
        "\n",
        "    return vrt_etherum, p_value_etherum, zvrt_etherum, q_etherum, stderr_etherum\n",
        "VRTest()\n",
        "\n",
        "confidence_etherum=1-alpha_etherum\n",
        "%pylab inline\n",
        "#pylab.rcParams['figure.figsize'] = (15, 9)   # Change the size of plots\n",
        "#plt.ylim(min(lcl), max(ucl))\n",
        "plt.xlim(0, 2**k_etherum+2)\n",
        "plt.xlabel( 'q' )\n",
        "plt.ylabel( 'VR(q)' )\n",
        "plt.plot(q_etherum, vr_1_etherum,color='black', linestyle='dashed', label='VR(q)=1')\n",
        "plt.plot(q_etherum, vrt_etherum, color='blue', marker='o',markerfacecolor='blue', markersize=8,label='VR(q)')\n",
        "plt.plot(q_etherum, lcl_etherum,color='red', linestyle='dashed', label='LCL ' +str('{:.0%}'.format(confidence_tesla)))\n",
        "plt.plot(q_etherum, ucl_etherum,color='red', linestyle='dashed', label='UCL ' +str('{:.0%}'.format(confidence_tesla)))\n",
        "plt.legend(loc='upper center', bbox_to_anchor=(0.5, -0.07),fancybox=True, shadow=True, ncol=5)\n",
        "\n",
        "plt.show()"
      ],
      "metadata": {
        "id": "om1ny3ma3sUH",
        "outputId": "9b928f77-75ae-4c89-bf20-66b4e69dea8c",
        "colab": {
          "base_uri": "https://localhost:8080/",
          "height": 304
        }
      },
      "execution_count": 94,
      "outputs": [
        {
          "output_type": "stream",
          "name": "stdout",
          "text": [
            "Populating the interactive namespace from numpy and matplotlib\n"
          ]
        },
        {
          "output_type": "display_data",
          "data": {
            "text/plain": [
              "<Figure size 432x288 with 1 Axes>"
            ],
            "image/png": "[encoded data removed]"
          },
          "metadata": {
            "needs_background": "light"
          }
        }
      ]
    },
    {
      "cell_type": "code",
      "source": [
        "results_tesla=pd.DataFrame(columns=['q','VR test', 'Std. Error','z statistic', 'P-value'])\n",
        "results_tesla['q']=q_tesla\n",
        "results_tesla['VR test']=vrt_tesla\n",
        "results_tesla['Std. Error']=stderr_tesla\n",
        "results_tesla['z statistic']=zvrt_tesla\n",
        "results_tesla['P-value']=p_value_tesla"
      ],
      "metadata": {
        "id": "HdOk49a857WD"
      },
      "execution_count": 99,
      "outputs": []
    },
    {
      "cell_type": "code",
      "source": [
        "results_tesla"
      ],
      "metadata": {
        "id": "D0hREnpN6eVt",
        "outputId": "1afb8edf-cac2-4c29-b4c2-448372f8502f",
        "colab": {
          "base_uri": "https://localhost:8080/",
          "height": 206
        }
      },
      "execution_count": 100,
      "outputs": [
        {
          "output_type": "execute_result",
          "data": {
            "text/plain": [
              "    q   VR test  Std. Error  z statistic   P-value\n",
              "0   2  0.985743    0.045420    -0.313890  0.753605\n",
              "1   4  1.050267    0.085723     0.586380  0.557620\n",
              "2   8  1.048348    0.132234     0.365623  0.714646\n",
              "3  16  1.117130    0.186034     0.629618  0.528944\n",
              "4  32  1.099967    0.256869     0.389177  0.697145"
            ],
            "text/html": [
              "\n",
              "  <div id=\"df-a142f22b-7e26-4b28-bff9-936299e34e95\">\n",
              "    <div class=\"colab-df-container\">\n",
              "      <div>\n",
              "<style scoped>\n",
              "    .dataframe tbody tr th:only-of-type {\n",
              "        vertical-align: middle;\n",
              "    }\n",
              "\n",
              "    .dataframe tbody tr th {\n",
              "        vertical-align: top;\n",
              "    }\n",
              "\n",
              "    .dataframe thead th {\n",
              "        text-align: right;\n",
              "    }\n",
              "</style>\n",
              "<table border=\"1\" class=\"dataframe\">\n",
              "  <thead>\n",
              "    <tr style=\"text-align: right;\">\n",
              "      <th></th>\n",
              "      <th>q</th>\n",
              "      <th>VR test</th>\n",
              "      <th>Std. Error</th>\n",
              "      <th>z statistic</th>\n",
              "      <th>P-value</th>\n",
              "    </tr>\n",
              "  </thead>\n",
              "  <tbody>\n",
              "    <tr>\n",
              "      <th>0</th>\n",
              "      <td>2</td>\n",
              "      <td>0.985743</td>\n",
              "      <td>0.045420</td>\n",
              "      <td>-0.313890</td>\n",
              "      <td>0.753605</td>\n",
              "    </tr>\n",
              "    <tr>\n",
              "      <th>1</th>\n",
              "      <td>4</td>\n",
              "      <td>1.050267</td>\n",
              "      <td>0.085723</td>\n",
              "      <td>0.586380</td>\n",
              "      <td>0.557620</td>\n",
              "    </tr>\n",
              "    <tr>\n",
              "      <th>2</th>\n",
              "      <td>8</td>\n",
              "      <td>1.048348</td>\n",
              "      <td>0.132234</td>\n",
              "      <td>0.365623</td>\n",
              "      <td>0.714646</td>\n",
              "    </tr>\n",
              "    <tr>\n",
              "      <th>3</th>\n",
              "      <td>16</td>\n",
              "      <td>1.117130</td>\n",
              "      <td>0.186034</td>\n",
              "      <td>0.629618</td>\n",
              "      <td>0.528944</td>\n",
              "    </tr>\n",
              "    <tr>\n",
              "      <th>4</th>\n",
              "      <td>32</td>\n",
              "      <td>1.099967</td>\n",
              "      <td>0.256869</td>\n",
              "      <td>0.389177</td>\n",
              "      <td>0.697145</td>\n",
              "    </tr>\n",
              "  </tbody>\n",
              "</table>\n",
              "</div>\n",
              "      <button class=\"colab-df-convert\" onclick=\"convertToInteractive('df-a142f22b-7e26-4b28-bff9-936299e34e95')\"\n",
              "              title=\"Convert this dataframe to an interactive table.\"\n",
              "              style=\"display:none;\">\n",
              "        \n",
              "  <svg xmlns=\"http://www.w3.org/2000/svg\" height=\"24px\"viewBox=\"0 0 24 24\"\n",
              "       width=\"24px\">\n",
              "    <path d=\"M0 0h24v24H0V0z\" fill=\"none\"/>\n",
              "    <path d=\"M18.56 5.44l.94 2.06.94-2.06 2.06-.94-2.06-.94-.94-2.06-.94 2.06-2.06.94zm-11 1L8.5 8.5l.94-2.06 2.06-.94-2.06-.94L8.5 2.5l-.94 2.06-2.06.94zm10 10l.94 2.06.94-2.06 2.06-.94-2.06-.94-.94-2.06-.94 2.06-2.06.94z\"/><path d=\"M17.41 7.96l-1.37-1.37c-.4-.4-.92-.59-1.43-.59-.52 0-1.04.2-1.43.59L10.3 9.45l-7.72 7.72c-.78.78-.78 2.05 0 2.83L4 21.41c.39.39.9.59 1.41.59.51 0 1.02-.2 1.41-.59l7.78-7.78 2.81-2.81c.8-.78.8-2.07 0-2.86zM5.41 20L4 18.59l7.72-7.72 1.47 1.35L5.41 20z\"/>\n",
              "  </svg>\n",
              "      </button>\n",
              "      \n",
              "  <style>\n",
              "    .colab-df-container {\n",
              "      display:flex;\n",
              "      flex-wrap:wrap;\n",
              "      gap: 12px;\n",
              "    }\n",
              "\n",
              "    .colab-df-convert {\n",
              "      background-color: #E8F0FE;\n",
              "      border: none;\n",
              "      border-radius: 50%;\n",
              "      cursor: pointer;\n",
              "      display: none;\n",
              "      fill: #1967D2;\n",
              "      height: 32px;\n",
              "      padding: 0 0 0 0;\n",
              "      width: 32px;\n",
              "    }\n",
              "\n",
              "    .colab-df-convert:hover {\n",
              "      background-color: #E2EBFA;\n",
              "      box-shadow: 0px 1px 2px rgba(60, 64, 67, 0.3), 0px 1px 3px 1px rgba(60, 64, 67, 0.15);\n",
              "      fill: #174EA6;\n",
              "    }\n",
              "\n",
              "    [theme=dark] .colab-df-convert {\n",
              "      background-color: #3B4455;\n",
              "      fill: #D2E3FC;\n",
              "    }\n",
              "\n",
              "    [theme=dark] .colab-df-convert:hover {\n",
              "      background-color: #434B5C;\n",
              "      box-shadow: 0px 1px 3px 1px rgba(0, 0, 0, 0.15);\n",
              "      filter: drop-shadow(0px 1px 2px rgba(0, 0, 0, 0.3));\n",
              "      fill: #FFFFFF;\n",
              "    }\n",
              "  </style>\n",
              "\n",
              "      <script>\n",
              "        const buttonEl =\n",
              "          document.querySelector('#df-a142f22b-7e26-4b28-bff9-936299e34e95 button.colab-df-convert');\n",
              "        buttonEl.style.display =\n",
              "          google.colab.kernel.accessAllowed ? 'block' : 'none';\n",
              "\n",
              "        async function convertToInteractive(key) {\n",
              "          const element = document.querySelector('#df-a142f22b-7e26-4b28-bff9-936299e34e95');\n",
              "          const dataTable =\n",
              "            await google.colab.kernel.invokeFunction('convertToInteractive',\n",
              "                                                     [key], {});\n",
              "          if (!dataTable) return;\n",
              "\n",
              "          const docLinkHtml = 'Like what you see? Visit the ' +\n",
              "            '<a target=\"_blank\" href=https://colab.research.google.com/notebooks/data_table.ipynb>data table notebook</a>'\n",
              "            + ' to learn more about interactive tables.';\n",
              "          element.innerHTML = '';\n",
              "          dataTable['output_type'] = 'display_data';\n",
              "          await google.colab.output.renderOutput(dataTable, element);\n",
              "          const docLink = document.createElement('div');\n",
              "          docLink.innerHTML = docLinkHtml;\n",
              "          element.appendChild(docLink);\n",
              "        }\n",
              "      </script>\n",
              "    </div>\n",
              "  </div>\n",
              "  "
            ]
          },
          "metadata": {},
          "execution_count": 100
        }
      ]
    },
    {
      "cell_type": "code",
      "source": [
        "results_etherum=pd.DataFrame(columns=['q','VR test', 'Std. Error','z statistic', 'P-value'])\n",
        "results_etherum['q']=q_etherum\n",
        "results_etherum['VR test']=vrt_etherum\n",
        "results_etherum['Std. Error']=stderr_etherum\n",
        "results_etherum['z statistic']=zvrt_etherum\n",
        "results_etherum['P-value']=p_value_etherum"
      ],
      "metadata": {
        "id": "iD4Zunyo6nrV"
      },
      "execution_count": 101,
      "outputs": []
    },
    {
      "cell_type": "code",
      "source": [
        "results_etherum"
      ],
      "metadata": {
        "id": "phky9LLb63Km",
        "outputId": "695689ed-df99-4c38-c07e-ef6c05b81931",
        "colab": {
          "base_uri": "https://localhost:8080/",
          "height": 206
        }
      },
      "execution_count": 102,
      "outputs": [
        {
          "output_type": "execute_result",
          "data": {
            "text/plain": [
              "    q   VR test  Std. Error  z statistic   P-value\n",
              "0   2  0.935489    0.036935    -1.746620  0.080703\n",
              "1   4  0.969323    0.065199    -0.470516  0.637986\n",
              "2   8  1.061929    0.101827     0.608179  0.543069\n",
              "3  16  1.111772    0.146966     0.760526  0.446941\n",
              "4  32  1.210059    0.199932     1.050653  0.293418"
            ],
            "text/html": [
              "\n",
              "  <div id=\"df-52aec7bb-6457-4e13-9079-59a90399c271\">\n",
              "    <div class=\"colab-df-container\">\n",
              "      <div>\n",
              "<style scoped>\n",
              "    .dataframe tbody tr th:only-of-type {\n",
              "        vertical-align: middle;\n",
              "    }\n",
              "\n",
              "    .dataframe tbody tr th {\n",
              "        vertical-align: top;\n",
              "    }\n",
              "\n",
              "    .dataframe thead th {\n",
              "        text-align: right;\n",
              "    }\n",
              "</style>\n",
              "<table border=\"1\" class=\"dataframe\">\n",
              "  <thead>\n",
              "    <tr style=\"text-align: right;\">\n",
              "      <th></th>\n",
              "      <th>q</th>\n",
              "      <th>VR test</th>\n",
              "      <th>Std. Error</th>\n",
              "      <th>z statistic</th>\n",
              "      <th>P-value</th>\n",
              "    </tr>\n",
              "  </thead>\n",
              "  <tbody>\n",
              "    <tr>\n",
              "      <th>0</th>\n",
              "      <td>2</td>\n",
              "      <td>0.935489</td>\n",
              "      <td>0.036935</td>\n",
              "      <td>-1.746620</td>\n",
              "      <td>0.080703</td>\n",
              "    </tr>\n",
              "    <tr>\n",
              "      <th>1</th>\n",
              "      <td>4</td>\n",
              "      <td>0.969323</td>\n",
              "      <td>0.065199</td>\n",
              "      <td>-0.470516</td>\n",
              "      <td>0.637986</td>\n",
              "    </tr>\n",
              "    <tr>\n",
              "      <th>2</th>\n",
              "      <td>8</td>\n",
              "      <td>1.061929</td>\n",
              "      <td>0.101827</td>\n",
              "      <td>0.608179</td>\n",
              "      <td>0.543069</td>\n",
              "    </tr>\n",
              "    <tr>\n",
              "      <th>3</th>\n",
              "      <td>16</td>\n",
              "      <td>1.111772</td>\n",
              "      <td>0.146966</td>\n",
              "      <td>0.760526</td>\n",
              "      <td>0.446941</td>\n",
              "    </tr>\n",
              "    <tr>\n",
              "      <th>4</th>\n",
              "      <td>32</td>\n",
              "      <td>1.210059</td>\n",
              "      <td>0.199932</td>\n",
              "      <td>1.050653</td>\n",
              "      <td>0.293418</td>\n",
              "    </tr>\n",
              "  </tbody>\n",
              "</table>\n",
              "</div>\n",
              "      <button class=\"colab-df-convert\" onclick=\"convertToInteractive('df-52aec7bb-6457-4e13-9079-59a90399c271')\"\n",
              "              title=\"Convert this dataframe to an interactive table.\"\n",
              "              style=\"display:none;\">\n",
              "        \n",
              "  <svg xmlns=\"http://www.w3.org/2000/svg\" height=\"24px\"viewBox=\"0 0 24 24\"\n",
              "       width=\"24px\">\n",
              "    <path d=\"M0 0h24v24H0V0z\" fill=\"none\"/>\n",
              "    <path d=\"M18.56 5.44l.94 2.06.94-2.06 2.06-.94-2.06-.94-.94-2.06-.94 2.06-2.06.94zm-11 1L8.5 8.5l.94-2.06 2.06-.94-2.06-.94L8.5 2.5l-.94 2.06-2.06.94zm10 10l.94 2.06.94-2.06 2.06-.94-2.06-.94-.94-2.06-.94 2.06-2.06.94z\"/><path d=\"M17.41 7.96l-1.37-1.37c-.4-.4-.92-.59-1.43-.59-.52 0-1.04.2-1.43.59L10.3 9.45l-7.72 7.72c-.78.78-.78 2.05 0 2.83L4 21.41c.39.39.9.59 1.41.59.51 0 1.02-.2 1.41-.59l7.78-7.78 2.81-2.81c.8-.78.8-2.07 0-2.86zM5.41 20L4 18.59l7.72-7.72 1.47 1.35L5.41 20z\"/>\n",
              "  </svg>\n",
              "      </button>\n",
              "      \n",
              "  <style>\n",
              "    .colab-df-container {\n",
              "      display:flex;\n",
              "      flex-wrap:wrap;\n",
              "      gap: 12px;\n",
              "    }\n",
              "\n",
              "    .colab-df-convert {\n",
              "      background-color: #E8F0FE;\n",
              "      border: none;\n",
              "      border-radius: 50%;\n",
              "      cursor: pointer;\n",
              "      display: none;\n",
              "      fill: #1967D2;\n",
              "      height: 32px;\n",
              "      padding: 0 0 0 0;\n",
              "      width: 32px;\n",
              "    }\n",
              "\n",
              "    .colab-df-convert:hover {\n",
              "      background-color: #E2EBFA;\n",
              "      box-shadow: 0px 1px 2px rgba(60, 64, 67, 0.3), 0px 1px 3px 1px rgba(60, 64, 67, 0.15);\n",
              "      fill: #174EA6;\n",
              "    }\n",
              "\n",
              "    [theme=dark] .colab-df-convert {\n",
              "      background-color: #3B4455;\n",
              "      fill: #D2E3FC;\n",
              "    }\n",
              "\n",
              "    [theme=dark] .colab-df-convert:hover {\n",
              "      background-color: #434B5C;\n",
              "      box-shadow: 0px 1px 3px 1px rgba(0, 0, 0, 0.15);\n",
              "      filter: drop-shadow(0px 1px 2px rgba(0, 0, 0, 0.3));\n",
              "      fill: #FFFFFF;\n",
              "    }\n",
              "  </style>\n",
              "\n",
              "      <script>\n",
              "        const buttonEl =\n",
              "          document.querySelector('#df-52aec7bb-6457-4e13-9079-59a90399c271 button.colab-df-convert');\n",
              "        buttonEl.style.display =\n",
              "          google.colab.kernel.accessAllowed ? 'block' : 'none';\n",
              "\n",
              "        async function convertToInteractive(key) {\n",
              "          const element = document.querySelector('#df-52aec7bb-6457-4e13-9079-59a90399c271');\n",
              "          const dataTable =\n",
              "            await google.colab.kernel.invokeFunction('convertToInteractive',\n",
              "                                                     [key], {});\n",
              "          if (!dataTable) return;\n",
              "\n",
              "          const docLinkHtml = 'Like what you see? Visit the ' +\n",
              "            '<a target=\"_blank\" href=https://colab.research.google.com/notebooks/data_table.ipynb>data table notebook</a>'\n",
              "            + ' to learn more about interactive tables.';\n",
              "          element.innerHTML = '';\n",
              "          dataTable['output_type'] = 'display_data';\n",
              "          await google.colab.output.renderOutput(dataTable, element);\n",
              "          const docLink = document.createElement('div');\n",
              "          docLink.innerHTML = docLinkHtml;\n",
              "          element.appendChild(docLink);\n",
              "        }\n",
              "      </script>\n",
              "    </div>\n",
              "  </div>\n",
              "  "
            ]
          },
          "metadata": {},
          "execution_count": 102
        }
      ]
    },
    {
      "cell_type": "markdown",
      "source": [
        "Observăm că probabilitatea aferentă testului este mai mare decât pragul de semnificație pentru toți q => acceptăm ipoteza nulă, adică atât tesla, cât și etherum îndeplinesc condiția de random walk"
      ],
      "metadata": {
        "id": "xfQcBwUT7AbG"
      }
    },
    {
      "cell_type": "code",
      "source": [
        "z=abs(results_tesla[\"z statistic\"]).max()\n",
        "alpha_star=1-(1-alpha_tesla)**(1/k_tesla)\n",
        "alpha_star\n",
        "z_star=stat.norm.ppf(1-alpha_star/2)\n",
        "z_star\n",
        "\n",
        "mvr=pd.DataFrame(columns=['z Statistic','Critical z','Decision'])\n",
        "mvr.at[0,'z Statistic']=z\n",
        "mvr['Critical z']=z_star\n",
        "if z<z_star:\n",
        "    mvr['Decision']=\"Cannot reject the null hypothesis of random walk\"\n",
        "else:\n",
        "    mvr['Decision']=\"Reject the null hypothesis of random walk\"\n",
        "mvr"
      ],
      "metadata": {
        "id": "79cQ592a7VME",
        "outputId": "63d00dd6-0910-4abf-8c68-53ca4f2a53b7",
        "colab": {
          "base_uri": "https://localhost:8080/",
          "height": 81
        }
      },
      "execution_count": 103,
      "outputs": [
        {
          "output_type": "execute_result",
          "data": {
            "text/plain": [
              "  z Statistic  Critical z                                          Decision\n",
              "0    0.629618    2.568763  Cannot reject the null hypothesis of random walk"
            ],
            "text/html": [
              "\n",
              "  <div id=\"df-d59a55d3-998d-4134-ada4-6389f9bd03ac\">\n",
              "    <div class=\"colab-df-container\">\n",
              "      <div>\n",
              "<style scoped>\n",
              "    .dataframe tbody tr th:only-of-type {\n",
              "        vertical-align: middle;\n",
              "    }\n",
              "\n",
              "    .dataframe tbody tr th {\n",
              "        vertical-align: top;\n",
              "    }\n",
              "\n",
              "    .dataframe thead th {\n",
              "        text-align: right;\n",
              "    }\n",
              "</style>\n",
              "<table border=\"1\" class=\"dataframe\">\n",
              "  <thead>\n",
              "    <tr style=\"text-align: right;\">\n",
              "      <th></th>\n",
              "      <th>z Statistic</th>\n",
              "      <th>Critical z</th>\n",
              "      <th>Decision</th>\n",
              "    </tr>\n",
              "  </thead>\n",
              "  <tbody>\n",
              "    <tr>\n",
              "      <th>0</th>\n",
              "      <td>0.629618</td>\n",
              "      <td>2.568763</td>\n",
              "      <td>Cannot reject the null hypothesis of random walk</td>\n",
              "    </tr>\n",
              "  </tbody>\n",
              "</table>\n",
              "</div>\n",
              "      <button class=\"colab-df-convert\" onclick=\"convertToInteractive('df-d59a55d3-998d-4134-ada4-6389f9bd03ac')\"\n",
              "              title=\"Convert this dataframe to an interactive table.\"\n",
              "              style=\"display:none;\">\n",
              "        \n",
              "  <svg xmlns=\"http://www.w3.org/2000/svg\" height=\"24px\"viewBox=\"0 0 24 24\"\n",
              "       width=\"24px\">\n",
              "    <path d=\"M0 0h24v24H0V0z\" fill=\"none\"/>\n",
              "    <path d=\"M18.56 5.44l.94 2.06.94-2.06 2.06-.94-2.06-.94-.94-2.06-.94 2.06-2.06.94zm-11 1L8.5 8.5l.94-2.06 2.06-.94-2.06-.94L8.5 2.5l-.94 2.06-2.06.94zm10 10l.94 2.06.94-2.06 2.06-.94-2.06-.94-.94-2.06-.94 2.06-2.06.94z\"/><path d=\"M17.41 7.96l-1.37-1.37c-.4-.4-.92-.59-1.43-.59-.52 0-1.04.2-1.43.59L10.3 9.45l-7.72 7.72c-.78.78-.78 2.05 0 2.83L4 21.41c.39.39.9.59 1.41.59.51 0 1.02-.2 1.41-.59l7.78-7.78 2.81-2.81c.8-.78.8-2.07 0-2.86zM5.41 20L4 18.59l7.72-7.72 1.47 1.35L5.41 20z\"/>\n",
              "  </svg>\n",
              "      </button>\n",
              "      \n",
              "  <style>\n",
              "    .colab-df-container {\n",
              "      display:flex;\n",
              "      flex-wrap:wrap;\n",
              "      gap: 12px;\n",
              "    }\n",
              "\n",
              "    .colab-df-convert {\n",
              "      background-color: #E8F0FE;\n",
              "      border: none;\n",
              "      border-radius: 50%;\n",
              "      cursor: pointer;\n",
              "      display: none;\n",
              "      fill: #1967D2;\n",
              "      height: 32px;\n",
              "      padding: 0 0 0 0;\n",
              "      width: 32px;\n",
              "    }\n",
              "\n",
              "    .colab-df-convert:hover {\n",
              "      background-color: #E2EBFA;\n",
              "      box-shadow: 0px 1px 2px rgba(60, 64, 67, 0.3), 0px 1px 3px 1px rgba(60, 64, 67, 0.15);\n",
              "      fill: #174EA6;\n",
              "    }\n",
              "\n",
              "    [theme=dark] .colab-df-convert {\n",
              "      background-color: #3B4455;\n",
              "      fill: #D2E3FC;\n",
              "    }\n",
              "\n",
              "    [theme=dark] .colab-df-convert:hover {\n",
              "      background-color: #434B5C;\n",
              "      box-shadow: 0px 1px 3px 1px rgba(0, 0, 0, 0.15);\n",
              "      filter: drop-shadow(0px 1px 2px rgba(0, 0, 0, 0.3));\n",
              "      fill: #FFFFFF;\n",
              "    }\n",
              "  </style>\n",
              "\n",
              "      <script>\n",
              "        const buttonEl =\n",
              "          document.querySelector('#df-d59a55d3-998d-4134-ada4-6389f9bd03ac button.colab-df-convert');\n",
              "        buttonEl.style.display =\n",
              "          google.colab.kernel.accessAllowed ? 'block' : 'none';\n",
              "\n",
              "        async function convertToInteractive(key) {\n",
              "          const element = document.querySelector('#df-d59a55d3-998d-4134-ada4-6389f9bd03ac');\n",
              "          const dataTable =\n",
              "            await google.colab.kernel.invokeFunction('convertToInteractive',\n",
              "                                                     [key], {});\n",
              "          if (!dataTable) return;\n",
              "\n",
              "          const docLinkHtml = 'Like what you see? Visit the ' +\n",
              "            '<a target=\"_blank\" href=https://colab.research.google.com/notebooks/data_table.ipynb>data table notebook</a>'\n",
              "            + ' to learn more about interactive tables.';\n",
              "          element.innerHTML = '';\n",
              "          dataTable['output_type'] = 'display_data';\n",
              "          await google.colab.output.renderOutput(dataTable, element);\n",
              "          const docLink = document.createElement('div');\n",
              "          docLink.innerHTML = docLinkHtml;\n",
              "          element.appendChild(docLink);\n",
              "        }\n",
              "      </script>\n",
              "    </div>\n",
              "  </div>\n",
              "  "
            ]
          },
          "metadata": {},
          "execution_count": 103
        }
      ]
    },
    {
      "cell_type": "code",
      "source": [
        "z=abs(results_etherum[\"z statistic\"]).max()\n",
        "alpha_star=1-(1-alpha_etherum)**(1/k_etherum)\n",
        "alpha_star\n",
        "z_star=stat.norm.ppf(1-alpha_star/2)\n",
        "z_star\n",
        "\n",
        "mvr=pd.DataFrame(columns=['z Statistic','Critical z','Decision'])\n",
        "mvr.at[0,'z Statistic']=z\n",
        "mvr['Critical z']=z_star\n",
        "if z<z_star:\n",
        "    mvr['Decision']=\"Cannot reject the null hypothesis of random walk\"\n",
        "else:\n",
        "    mvr['Decision']=\"Reject the null hypothesis of random walk\"\n",
        "mvr"
      ],
      "metadata": {
        "id": "i76UIS1F7oFI",
        "outputId": "9fcfad79-36d5-44ea-a23d-4cc1a60ce399",
        "colab": {
          "base_uri": "https://localhost:8080/",
          "height": 81
        }
      },
      "execution_count": 104,
      "outputs": [
        {
          "output_type": "execute_result",
          "data": {
            "text/plain": [
              "  z Statistic  Critical z                                          Decision\n",
              "0     1.74662    2.568763  Cannot reject the null hypothesis of random walk"
            ],
            "text/html": [
              "\n",
              "  <div id=\"df-66dc90ec-9214-4d2a-b7fe-e396cc051386\">\n",
              "    <div class=\"colab-df-container\">\n",
              "      <div>\n",
              "<style scoped>\n",
              "    .dataframe tbody tr th:only-of-type {\n",
              "        vertical-align: middle;\n",
              "    }\n",
              "\n",
              "    .dataframe tbody tr th {\n",
              "        vertical-align: top;\n",
              "    }\n",
              "\n",
              "    .dataframe thead th {\n",
              "        text-align: right;\n",
              "    }\n",
              "</style>\n",
              "<table border=\"1\" class=\"dataframe\">\n",
              "  <thead>\n",
              "    <tr style=\"text-align: right;\">\n",
              "      <th></th>\n",
              "      <th>z Statistic</th>\n",
              "      <th>Critical z</th>\n",
              "      <th>Decision</th>\n",
              "    </tr>\n",
              "  </thead>\n",
              "  <tbody>\n",
              "    <tr>\n",
              "      <th>0</th>\n",
              "      <td>1.74662</td>\n",
              "      <td>2.568763</td>\n",
              "      <td>Cannot reject the null hypothesis of random walk</td>\n",
              "    </tr>\n",
              "  </tbody>\n",
              "</table>\n",
              "</div>\n",
              "      <button class=\"colab-df-convert\" onclick=\"convertToInteractive('df-66dc90ec-9214-4d2a-b7fe-e396cc051386')\"\n",
              "              title=\"Convert this dataframe to an interactive table.\"\n",
              "              style=\"display:none;\">\n",
              "        \n",
              "  <svg xmlns=\"http://www.w3.org/2000/svg\" height=\"24px\"viewBox=\"0 0 24 24\"\n",
              "       width=\"24px\">\n",
              "    <path d=\"M0 0h24v24H0V0z\" fill=\"none\"/>\n",
              "    <path d=\"M18.56 5.44l.94 2.06.94-2.06 2.06-.94-2.06-.94-.94-2.06-.94 2.06-2.06.94zm-11 1L8.5 8.5l.94-2.06 2.06-.94-2.06-.94L8.5 2.5l-.94 2.06-2.06.94zm10 10l.94 2.06.94-2.06 2.06-.94-2.06-.94-.94-2.06-.94 2.06-2.06.94z\"/><path d=\"M17.41 7.96l-1.37-1.37c-.4-.4-.92-.59-1.43-.59-.52 0-1.04.2-1.43.59L10.3 9.45l-7.72 7.72c-.78.78-.78 2.05 0 2.83L4 21.41c.39.39.9.59 1.41.59.51 0 1.02-.2 1.41-.59l7.78-7.78 2.81-2.81c.8-.78.8-2.07 0-2.86zM5.41 20L4 18.59l7.72-7.72 1.47 1.35L5.41 20z\"/>\n",
              "  </svg>\n",
              "      </button>\n",
              "      \n",
              "  <style>\n",
              "    .colab-df-container {\n",
              "      display:flex;\n",
              "      flex-wrap:wrap;\n",
              "      gap: 12px;\n",
              "    }\n",
              "\n",
              "    .colab-df-convert {\n",
              "      background-color: #E8F0FE;\n",
              "      border: none;\n",
              "      border-radius: 50%;\n",
              "      cursor: pointer;\n",
              "      display: none;\n",
              "      fill: #1967D2;\n",
              "      height: 32px;\n",
              "      padding: 0 0 0 0;\n",
              "      width: 32px;\n",
              "    }\n",
              "\n",
              "    .colab-df-convert:hover {\n",
              "      background-color: #E2EBFA;\n",
              "      box-shadow: 0px 1px 2px rgba(60, 64, 67, 0.3), 0px 1px 3px 1px rgba(60, 64, 67, 0.15);\n",
              "      fill: #174EA6;\n",
              "    }\n",
              "\n",
              "    [theme=dark] .colab-df-convert {\n",
              "      background-color: #3B4455;\n",
              "      fill: #D2E3FC;\n",
              "    }\n",
              "\n",
              "    [theme=dark] .colab-df-convert:hover {\n",
              "      background-color: #434B5C;\n",
              "      box-shadow: 0px 1px 3px 1px rgba(0, 0, 0, 0.15);\n",
              "      filter: drop-shadow(0px 1px 2px rgba(0, 0, 0, 0.3));\n",
              "      fill: #FFFFFF;\n",
              "    }\n",
              "  </style>\n",
              "\n",
              "      <script>\n",
              "        const buttonEl =\n",
              "          document.querySelector('#df-66dc90ec-9214-4d2a-b7fe-e396cc051386 button.colab-df-convert');\n",
              "        buttonEl.style.display =\n",
              "          google.colab.kernel.accessAllowed ? 'block' : 'none';\n",
              "\n",
              "        async function convertToInteractive(key) {\n",
              "          const element = document.querySelector('#df-66dc90ec-9214-4d2a-b7fe-e396cc051386');\n",
              "          const dataTable =\n",
              "            await google.colab.kernel.invokeFunction('convertToInteractive',\n",
              "                                                     [key], {});\n",
              "          if (!dataTable) return;\n",
              "\n",
              "          const docLinkHtml = 'Like what you see? Visit the ' +\n",
              "            '<a target=\"_blank\" href=https://colab.research.google.com/notebooks/data_table.ipynb>data table notebook</a>'\n",
              "            + ' to learn more about interactive tables.';\n",
              "          element.innerHTML = '';\n",
              "          dataTable['output_type'] = 'display_data';\n",
              "          await google.colab.output.renderOutput(dataTable, element);\n",
              "          const docLink = document.createElement('div');\n",
              "          docLink.innerHTML = docLinkHtml;\n",
              "          element.appendChild(docLink);\n",
              "        }\n",
              "      </script>\n",
              "    </div>\n",
              "  </div>\n",
              "  "
            ]
          },
          "metadata": {},
          "execution_count": 104
        }
      ]
    },
    {
      "cell_type": "markdown",
      "source": [
        "Se acceptă ipoteza de random walk pentru ambele active financiare."
      ],
      "metadata": {
        "id": "dwBVW4PC8DcS"
      }
    },
    {
      "cell_type": "code",
      "source": [
        "cov1=np.zeros((k_tesla,k_tesla))\n",
        "\n",
        "q=np.asarray(q_tesla)\n",
        "\n",
        "for i in range (0,k_tesla-1):\n",
        "    for j in range (i+1,k_tesla):\n",
        "        cov1[i][j]=2*(3*q[j]-q[i]-1)*(q[i]-1)/(3*q[j])\n",
        "cov2=np.transpose(cov1)\n",
        "cov=cov1+cov2\n",
        "\n",
        "for i in range (0,k_tesla):\n",
        "    #for j in range (i+1,k):\n",
        "  \n",
        "    cov[i][i]=2*(2*q[i]-1)*(q[i]-1)/(3*q[i])\n",
        "    \n",
        "Wald_Test=np.matmul(np.asarray(vrt_tesla)-1,np.linalg.inv(cov))\n",
        "                    \n",
        "Wald_Test=N_tesla*np.matmul(Wald_Test,np.transpose(np.asarray(vrt_tesla)-1))\n",
        "\n",
        "p_val= 1-stat.chi2.cdf(Wald_Test,k_tesla)\n",
        "\n",
        "mvrw=pd.DataFrame(columns=['Wald Test','Critical Chi2','P-value','Decision'])\n",
        "mvrw.at[0,'Wald Test']=Wald_Test\n",
        "mvrw['Critical Chi2']=stat.chi2.ppf(alpha_tesla/2,k_tesla)\n",
        "mvrw['P-value']=p_val\n",
        "if p_val>0.05:\n",
        "    mvrw['Decision']=\"Cannot reject the null hypothesis of random walk\"\n",
        "else:\n",
        "    mvrw['Decision']=\"Reject the null hypothesis of random walk\"\n",
        "mvrw"
      ],
      "metadata": {
        "id": "aInXXsBX77bh",
        "outputId": "0040366b-4bbe-4a3e-db27-cdc615002ce3",
        "colab": {
          "base_uri": "https://localhost:8080/",
          "height": 81
        }
      },
      "execution_count": 105,
      "outputs": [
        {
          "output_type": "execute_result",
          "data": {
            "text/plain": [
              "  Wald Test  Critical Chi2   P-value  \\\n",
              "0  8.192571       0.831212  0.145937   \n",
              "\n",
              "                                           Decision  \n",
              "0  Cannot reject the null hypothesis of random walk  "
            ],
            "text/html": [
              "\n",
              "  <div id=\"df-31f535d9-416f-4448-be52-937790c7ebc0\">\n",
              "    <div class=\"colab-df-container\">\n",
              "      <div>\n",
              "<style scoped>\n",
              "    .dataframe tbody tr th:only-of-type {\n",
              "        vertical-align: middle;\n",
              "    }\n",
              "\n",
              "    .dataframe tbody tr th {\n",
              "        vertical-align: top;\n",
              "    }\n",
              "\n",
              "    .dataframe thead th {\n",
              "        text-align: right;\n",
              "    }\n",
              "</style>\n",
              "<table border=\"1\" class=\"dataframe\">\n",
              "  <thead>\n",
              "    <tr style=\"text-align: right;\">\n",
              "      <th></th>\n",
              "      <th>Wald Test</th>\n",
              "      <th>Critical Chi2</th>\n",
              "      <th>P-value</th>\n",
              "      <th>Decision</th>\n",
              "    </tr>\n",
              "  </thead>\n",
              "  <tbody>\n",
              "    <tr>\n",
              "      <th>0</th>\n",
              "      <td>8.192571</td>\n",
              "      <td>0.831212</td>\n",
              "      <td>0.145937</td>\n",
              "      <td>Cannot reject the null hypothesis of random walk</td>\n",
              "    </tr>\n",
              "  </tbody>\n",
              "</table>\n",
              "</div>\n",
              "      <button class=\"colab-df-convert\" onclick=\"convertToInteractive('df-31f535d9-416f-4448-be52-937790c7ebc0')\"\n",
              "              title=\"Convert this dataframe to an interactive table.\"\n",
              "              style=\"display:none;\">\n",
              "        \n",
              "  <svg xmlns=\"http://www.w3.org/2000/svg\" height=\"24px\"viewBox=\"0 0 24 24\"\n",
              "       width=\"24px\">\n",
              "    <path d=\"M0 0h24v24H0V0z\" fill=\"none\"/>\n",
              "    <path d=\"M18.56 5.44l.94 2.06.94-2.06 2.06-.94-2.06-.94-.94-2.06-.94 2.06-2.06.94zm-11 1L8.5 8.5l.94-2.06 2.06-.94-2.06-.94L8.5 2.5l-.94 2.06-2.06.94zm10 10l.94 2.06.94-2.06 2.06-.94-2.06-.94-.94-2.06-.94 2.06-2.06.94z\"/><path d=\"M17.41 7.96l-1.37-1.37c-.4-.4-.92-.59-1.43-.59-.52 0-1.04.2-1.43.59L10.3 9.45l-7.72 7.72c-.78.78-.78 2.05 0 2.83L4 21.41c.39.39.9.59 1.41.59.51 0 1.02-.2 1.41-.59l7.78-7.78 2.81-2.81c.8-.78.8-2.07 0-2.86zM5.41 20L4 18.59l7.72-7.72 1.47 1.35L5.41 20z\"/>\n",
              "  </svg>\n",
              "      </button>\n",
              "      \n",
              "  <style>\n",
              "    .colab-df-container {\n",
              "      display:flex;\n",
              "      flex-wrap:wrap;\n",
              "      gap: 12px;\n",
              "    }\n",
              "\n",
              "    .colab-df-convert {\n",
              "      background-color: #E8F0FE;\n",
              "      border: none;\n",
              "      border-radius: 50%;\n",
              "      cursor: pointer;\n",
              "      display: none;\n",
              "      fill: #1967D2;\n",
              "      height: 32px;\n",
              "      padding: 0 0 0 0;\n",
              "      width: 32px;\n",
              "    }\n",
              "\n",
              "    .colab-df-convert:hover {\n",
              "      background-color: #E2EBFA;\n",
              "      box-shadow: 0px 1px 2px rgba(60, 64, 67, 0.3), 0px 1px 3px 1px rgba(60, 64, 67, 0.15);\n",
              "      fill: #174EA6;\n",
              "    }\n",
              "\n",
              "    [theme=dark] .colab-df-convert {\n",
              "      background-color: #3B4455;\n",
              "      fill: #D2E3FC;\n",
              "    }\n",
              "\n",
              "    [theme=dark] .colab-df-convert:hover {\n",
              "      background-color: #434B5C;\n",
              "      box-shadow: 0px 1px 3px 1px rgba(0, 0, 0, 0.15);\n",
              "      filter: drop-shadow(0px 1px 2px rgba(0, 0, 0, 0.3));\n",
              "      fill: #FFFFFF;\n",
              "    }\n",
              "  </style>\n",
              "\n",
              "      <script>\n",
              "        const buttonEl =\n",
              "          document.querySelector('#df-31f535d9-416f-4448-be52-937790c7ebc0 button.colab-df-convert');\n",
              "        buttonEl.style.display =\n",
              "          google.colab.kernel.accessAllowed ? 'block' : 'none';\n",
              "\n",
              "        async function convertToInteractive(key) {\n",
              "          const element = document.querySelector('#df-31f535d9-416f-4448-be52-937790c7ebc0');\n",
              "          const dataTable =\n",
              "            await google.colab.kernel.invokeFunction('convertToInteractive',\n",
              "                                                     [key], {});\n",
              "          if (!dataTable) return;\n",
              "\n",
              "          const docLinkHtml = 'Like what you see? Visit the ' +\n",
              "            '<a target=\"_blank\" href=https://colab.research.google.com/notebooks/data_table.ipynb>data table notebook</a>'\n",
              "            + ' to learn more about interactive tables.';\n",
              "          element.innerHTML = '';\n",
              "          dataTable['output_type'] = 'display_data';\n",
              "          await google.colab.output.renderOutput(dataTable, element);\n",
              "          const docLink = document.createElement('div');\n",
              "          docLink.innerHTML = docLinkHtml;\n",
              "          element.appendChild(docLink);\n",
              "        }\n",
              "      </script>\n",
              "    </div>\n",
              "  </div>\n",
              "  "
            ]
          },
          "metadata": {},
          "execution_count": 105
        }
      ]
    },
    {
      "cell_type": "code",
      "source": [
        "cov1=np.zeros((k_etherum,k_etherum))\n",
        "\n",
        "q=np.asarray(q_etherum)\n",
        "\n",
        "for i in range (0,k_etherum-1):\n",
        "    for j in range (i+1,k_etherum):\n",
        "        cov1[i][j]=2*(3*q[j]-q[i]-1)*(q[i]-1)/(3*q[j])\n",
        "cov2=np.transpose(cov1)\n",
        "cov=cov1+cov2\n",
        "\n",
        "for i in range (0,k_etherum):\n",
        "    #for j in range (i+1,k):\n",
        "  \n",
        "    cov[i][i]=2*(2*q[i]-1)*(q[i]-1)/(3*q[i])\n",
        "    \n",
        "Wald_Test=np.matmul(np.asarray(vrt_tesla)-1,np.linalg.inv(cov))\n",
        "                    \n",
        "Wald_Test=N_tesla*np.matmul(Wald_Test,np.transpose(np.asarray(vrt_etherum)-1))\n",
        "\n",
        "p_val= 1-stat.chi2.cdf(Wald_Test,k_etherum)\n",
        "\n",
        "mvrw=pd.DataFrame(columns=['Wald Test','Critical Chi2','P-value','Decision'])\n",
        "mvrw.at[0,'Wald Test']=Wald_Test\n",
        "mvrw['Critical Chi2']=stat.chi2.ppf(alpha_etherum/2,k_etherum)\n",
        "mvrw['P-value']=p_val\n",
        "if p_val>0.05:\n",
        "    mvrw['Decision']=\"Cannot reject the null hypothesis of random walk\"\n",
        "else:\n",
        "    mvrw['Decision']=\"Reject the null hypothesis of random walk\"\n",
        "mvrw"
      ],
      "metadata": {
        "id": "NdaT_l668akm",
        "outputId": "cdff9bbb-b8b0-448d-9be0-9f9540a5fbf3",
        "colab": {
          "base_uri": "https://localhost:8080/",
          "height": 81
        }
      },
      "execution_count": 106,
      "outputs": [
        {
          "output_type": "execute_result",
          "data": {
            "text/plain": [
              "  Wald Test  Critical Chi2   P-value  \\\n",
              "0  2.102098       0.831212  0.834845   \n",
              "\n",
              "                                           Decision  \n",
              "0  Cannot reject the null hypothesis of random walk  "
            ],
            "text/html": [
              "\n",
              "  <div id=\"df-6fbb05e1-516f-4e90-9de2-76b325e9a9dc\">\n",
              "    <div class=\"colab-df-container\">\n",
              "      <div>\n",
              "<style scoped>\n",
              "    .dataframe tbody tr th:only-of-type {\n",
              "        vertical-align: middle;\n",
              "    }\n",
              "\n",
              "    .dataframe tbody tr th {\n",
              "        vertical-align: top;\n",
              "    }\n",
              "\n",
              "    .dataframe thead th {\n",
              "        text-align: right;\n",
              "    }\n",
              "</style>\n",
              "<table border=\"1\" class=\"dataframe\">\n",
              "  <thead>\n",
              "    <tr style=\"text-align: right;\">\n",
              "      <th></th>\n",
              "      <th>Wald Test</th>\n",
              "      <th>Critical Chi2</th>\n",
              "      <th>P-value</th>\n",
              "      <th>Decision</th>\n",
              "    </tr>\n",
              "  </thead>\n",
              "  <tbody>\n",
              "    <tr>\n",
              "      <th>0</th>\n",
              "      <td>2.102098</td>\n",
              "      <td>0.831212</td>\n",
              "      <td>0.834845</td>\n",
              "      <td>Cannot reject the null hypothesis of random walk</td>\n",
              "    </tr>\n",
              "  </tbody>\n",
              "</table>\n",
              "</div>\n",
              "      <button class=\"colab-df-convert\" onclick=\"convertToInteractive('df-6fbb05e1-516f-4e90-9de2-76b325e9a9dc')\"\n",
              "              title=\"Convert this dataframe to an interactive table.\"\n",
              "              style=\"display:none;\">\n",
              "        \n",
              "  <svg xmlns=\"http://www.w3.org/2000/svg\" height=\"24px\"viewBox=\"0 0 24 24\"\n",
              "       width=\"24px\">\n",
              "    <path d=\"M0 0h24v24H0V0z\" fill=\"none\"/>\n",
              "    <path d=\"M18.56 5.44l.94 2.06.94-2.06 2.06-.94-2.06-.94-.94-2.06-.94 2.06-2.06.94zm-11 1L8.5 8.5l.94-2.06 2.06-.94-2.06-.94L8.5 2.5l-.94 2.06-2.06.94zm10 10l.94 2.06.94-2.06 2.06-.94-2.06-.94-.94-2.06-.94 2.06-2.06.94z\"/><path d=\"M17.41 7.96l-1.37-1.37c-.4-.4-.92-.59-1.43-.59-.52 0-1.04.2-1.43.59L10.3 9.45l-7.72 7.72c-.78.78-.78 2.05 0 2.83L4 21.41c.39.39.9.59 1.41.59.51 0 1.02-.2 1.41-.59l7.78-7.78 2.81-2.81c.8-.78.8-2.07 0-2.86zM5.41 20L4 18.59l7.72-7.72 1.47 1.35L5.41 20z\"/>\n",
              "  </svg>\n",
              "      </button>\n",
              "      \n",
              "  <style>\n",
              "    .colab-df-container {\n",
              "      display:flex;\n",
              "      flex-wrap:wrap;\n",
              "      gap: 12px;\n",
              "    }\n",
              "\n",
              "    .colab-df-convert {\n",
              "      background-color: #E8F0FE;\n",
              "      border: none;\n",
              "      border-radius: 50%;\n",
              "      cursor: pointer;\n",
              "      display: none;\n",
              "      fill: #1967D2;\n",
              "      height: 32px;\n",
              "      padding: 0 0 0 0;\n",
              "      width: 32px;\n",
              "    }\n",
              "\n",
              "    .colab-df-convert:hover {\n",
              "      background-color: #E2EBFA;\n",
              "      box-shadow: 0px 1px 2px rgba(60, 64, 67, 0.3), 0px 1px 3px 1px rgba(60, 64, 67, 0.15);\n",
              "      fill: #174EA6;\n",
              "    }\n",
              "\n",
              "    [theme=dark] .colab-df-convert {\n",
              "      background-color: #3B4455;\n",
              "      fill: #D2E3FC;\n",
              "    }\n",
              "\n",
              "    [theme=dark] .colab-df-convert:hover {\n",
              "      background-color: #434B5C;\n",
              "      box-shadow: 0px 1px 3px 1px rgba(0, 0, 0, 0.15);\n",
              "      filter: drop-shadow(0px 1px 2px rgba(0, 0, 0, 0.3));\n",
              "      fill: #FFFFFF;\n",
              "    }\n",
              "  </style>\n",
              "\n",
              "      <script>\n",
              "        const buttonEl =\n",
              "          document.querySelector('#df-6fbb05e1-516f-4e90-9de2-76b325e9a9dc button.colab-df-convert');\n",
              "        buttonEl.style.display =\n",
              "          google.colab.kernel.accessAllowed ? 'block' : 'none';\n",
              "\n",
              "        async function convertToInteractive(key) {\n",
              "          const element = document.querySelector('#df-6fbb05e1-516f-4e90-9de2-76b325e9a9dc');\n",
              "          const dataTable =\n",
              "            await google.colab.kernel.invokeFunction('convertToInteractive',\n",
              "                                                     [key], {});\n",
              "          if (!dataTable) return;\n",
              "\n",
              "          const docLinkHtml = 'Like what you see? Visit the ' +\n",
              "            '<a target=\"_blank\" href=https://colab.research.google.com/notebooks/data_table.ipynb>data table notebook</a>'\n",
              "            + ' to learn more about interactive tables.';\n",
              "          element.innerHTML = '';\n",
              "          dataTable['output_type'] = 'display_data';\n",
              "          await google.colab.output.renderOutput(dataTable, element);\n",
              "          const docLink = document.createElement('div');\n",
              "          docLink.innerHTML = docLinkHtml;\n",
              "          element.appendChild(docLink);\n",
              "        }\n",
              "      </script>\n",
              "    </div>\n",
              "  </div>\n",
              "  "
            ]
          },
          "metadata": {},
          "execution_count": 106
        }
      ]
    },
    {
      "cell_type": "markdown",
      "source": [
        "Se acceptă ipoteza de random walk pentru ambele active financiare."
      ],
      "metadata": {
        "id": "ui54zBtl8uXn"
      }
    }
  ],
  "metadata": {
    "colab": {
      "collapsed_sections": [],
      "name": "Bun venit la Colaboratory",
      "provenance": []
    },
    "kernelspec": {
      "display_name": "Python 3",
      "name": "python3"
    }
  },
  "nbformat": 4,
  "nbformat_minor": 0
}